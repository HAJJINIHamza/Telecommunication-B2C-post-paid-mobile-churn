{
 "cells": [
  {
   "cell_type": "markdown",
   "metadata": {},
   "source": [
    "# Handling duplicates"
   ]
  },
  {
   "cell_type": "markdown",
   "metadata": {},
   "source": [
    "1. [Packages](#Pachages)\n",
    "2. [Loading data](#Loading_data)\n",
    "3. [Handling duplicates](#Handling_duplicates)"
   ]
  },
  {
   "cell_type": "markdown",
   "metadata": {},
   "source": [
    "### Packages "
   ]
  },
  {
   "cell_type": "code",
   "execution_count": 2,
   "metadata": {},
   "outputs": [
    {
     "data": {
      "text/plain": [
       "'/home/hamza_hajjini@MCC.DOMAIN/bcppmchurn'"
      ]
     },
     "execution_count": 2,
     "metadata": {},
     "output_type": "execute_result"
    }
   ],
   "source": [
    "import os\n",
    "#Change current directory\n",
    "os.chdir ('/home/hamza_hajjini@MCC.DOMAIN/bcppmchurn')\n",
    "#Check the current directory\n",
    "os.getcwd()"
   ]
  },
  {
   "cell_type": "code",
   "execution_count": 3,
   "metadata": {},
   "outputs": [],
   "source": [
    "import pandas as pd \n",
    "import matplotlib.pyplot as plt \n",
    "import seaborn as sns\n",
    "import os\n",
    "from datetime import datetime \n",
    "from scipy import stats\n",
    "from pyspark.sql import SparkSession\n",
    "from pyspark.sql import functions\n",
    "import yaml \n",
    "\n",
    "from sklearn.model_selection import train_test_split \n",
    "\n",
    "from src.components.data_ingestion import get_feature_tables_from_impala, get_churn_target \n",
    "from src.components.data_structuring import structuringPipeline\n",
    "from src.eda import utils\n",
    "from src.eda.utils import columnsFamilies"
   ]
  },
  {
   "cell_type": "code",
   "execution_count": 4,
   "metadata": {},
   "outputs": [],
   "source": [
    "#Get todays's date\n",
    "date_time = datetime.today().strftime(\"%Y-%m-%d\")\n",
    "#Declare paths\n",
    "train_dev_test_path = \"data/train_dev_test\"\n",
    "data_path = \"data/experiments_data\"\n",
    "data_samples_path = \"data/data_samples\"\n",
    "artifacts_path = \"artifacts/eda\""
   ]
  },
  {
   "cell_type": "code",
   "execution_count": 5,
   "metadata": {},
   "outputs": [],
   "source": [
    "#Reload modules in case a change has occured\n",
    "#import importlib\n",
    "#from src.components import data_ingestion, data_structuring\n",
    "#importlib.reload(data_ingestion)\n",
    "#importlib.reload(data_structuring)"
   ]
  },
  {
   "cell_type": "markdown",
   "metadata": {},
   "source": [
    "### Loading data"
   ]
  },
  {
   "cell_type": "markdown",
   "metadata": {},
   "source": [
    "--------------------"
   ]
  },
  {
   "cell_type": "code",
   "execution_count": 31,
   "metadata": {},
   "outputs": [
    {
     "data": {
      "text/plain": [
       "'df_train[\"dn\"] = df_train[\"dn\"].astype(\"string\")\\ndf_dev[\"dn\"] = df_dev[\"dn\"].astype(\"string\")\\ndf_test[\"dn\"] = df_test[\"dn\"].astype(\"string\")'"
      ]
     },
     "execution_count": 31,
     "metadata": {},
     "output_type": "execute_result"
    }
   ],
   "source": [
    "#Loading data. Ensure that dn is a str \n",
    "data_date = \"2024-10-11\"\n",
    "df_train = pd.read_csv(f\"{train_dev_test_path}/{data_date}_df_train.csv\", index_col = 0, dtype= {\"dn\": \"string\"}) \n",
    "df_dev = pd.read_csv(f\"{train_dev_test_path}/{data_date}_df_dev.csv\", index_col = 0, dtype= {\"dn\": \"string\"})\n",
    "df_test = pd.read_csv(f\"{train_dev_test_path}/{data_date}_df_test.csv\", index_col = 0, dtype= {\"dn\": \"string\"})"
   ]
  },
  {
   "cell_type": "code",
   "execution_count": 35,
   "metadata": {},
   "outputs": [
    {
     "name": "stdout",
     "output_type": "stream",
     "text": [
      "df_train shape :(150000, 3582)\n",
      "df_dev shape: (25000, 3582)\n",
      "df_test shape: (10000, 3582)\n",
      "column dn's type is : string\n"
     ]
    }
   ],
   "source": [
    "#Quick check\n",
    "print (f\"df_train shape :{df_train.shape}\")\n",
    "print (f\"df_dev shape: {df_dev.shape}\")\n",
    "print (f\"df_test shape: {df_test.shape}\")\n",
    "print (f\"column dn's type is : {df_train.dn.dtype }\")"
   ]
  },
  {
   "cell_type": "markdown",
   "metadata": {},
   "source": [
    "--------------"
   ]
  },
  {
   "cell_type": "markdown",
   "metadata": {},
   "source": [
    "### Handling Duplicates "
   ]
  },
  {
   "cell_type": "markdown",
   "metadata": {},
   "source": [
    "Drop duplicated dns"
   ]
  },
  {
   "cell_type": "code",
   "execution_count": 63,
   "metadata": {},
   "outputs": [],
   "source": [
    "df_train.drop ( df_train [df_train[\"dn\"].duplicated()].index, inplace = True)"
   ]
  },
  {
   "cell_type": "code",
   "execution_count": 71,
   "metadata": {},
   "outputs": [
    {
     "name": "stdout",
     "output_type": "stream",
     "text": [
      "Number of duplicated dns : 0\n"
     ]
    }
   ],
   "source": [
    "print (f\"Number of duplicated dns : {df_train.dn.duplicated().sum()}\") "
   ]
  },
  {
   "cell_type": "code",
   "execution_count": 36,
   "metadata": {},
   "outputs": [
    {
     "name": "stdout",
     "output_type": "stream",
     "text": [
      "number of duplicated behaviors (exculding dn) is: 1763\n"
     ]
    }
   ],
   "source": [
    "df_train_without_dn = df_train[df_train.columns[1:]]\n",
    "print (f\"number of duplicated behaviors (exculding dn) is: {df_train_without_dn.duplicated().sum()}\")"
   ]
  },
  {
   "cell_type": "code",
   "execution_count": 37,
   "metadata": {},
   "outputs": [
    {
     "data": {
      "text/html": [
       "<div>\n",
       "<style scoped>\n",
       "    .dataframe tbody tr th:only-of-type {\n",
       "        vertical-align: middle;\n",
       "    }\n",
       "\n",
       "    .dataframe tbody tr th {\n",
       "        vertical-align: top;\n",
       "    }\n",
       "\n",
       "    .dataframe thead th {\n",
       "        text-align: right;\n",
       "    }\n",
       "</style>\n",
       "<table border=\"1\" class=\"dataframe\">\n",
       "  <thead>\n",
       "    <tr style=\"text-align: right;\">\n",
       "      <th></th>\n",
       "      <th>gamme</th>\n",
       "      <th>churn_segment</th>\n",
       "      <th>churn_date</th>\n",
       "      <th>activation_bscs_date</th>\n",
       "      <th>id_date</th>\n",
       "      <th>complaints_complaints_complaint_status_abondon_duration_nb_1m</th>\n",
       "      <th>complaints_complaints_complaint_status_abondon_total_nb_1m</th>\n",
       "      <th>complaints_complaints_complaint_status_autre_duration_nb_1m</th>\n",
       "      <th>complaints_complaints_complaint_status_autre_total_nb_1m</th>\n",
       "      <th>complaints_complaints_complaint_status_clos_duration_nb_1m</th>\n",
       "      <th>...</th>\n",
       "      <th>voice_call_direction_oc_duration_value_1_3w_3_4w</th>\n",
       "      <th>voice_destination_type_international_duration_value_1_3w_3_4w</th>\n",
       "      <th>voice_destination_type_national_duration_value_1_3w_3_4w</th>\n",
       "      <th>voice_termination_type_offnet_duration_value_1_3w_3_4w</th>\n",
       "      <th>voice_termination_type_onnet_duration_value_1_3w_3_4w</th>\n",
       "      <th>voice_weekend_n_duration_value_1_3w_3_4w</th>\n",
       "      <th>voice_weekend_y_duration_value_1_3w_3_4w</th>\n",
       "      <th>voice_workingh_n_duration_value_1_3w_3_4w</th>\n",
       "      <th>voice_workingh_y_duration_value_1_3w_3_4w</th>\n",
       "      <th>churn</th>\n",
       "    </tr>\n",
       "  </thead>\n",
       "  <tbody>\n",
       "    <tr>\n",
       "      <th>636882</th>\n",
       "      <td>Forfaits 49 dhs</td>\n",
       "      <td>non_churners</td>\n",
       "      <td>2024-09-27</td>\n",
       "      <td>NaN</td>\n",
       "      <td>20240607</td>\n",
       "      <td>NaN</td>\n",
       "      <td>NaN</td>\n",
       "      <td>NaN</td>\n",
       "      <td>NaN</td>\n",
       "      <td>NaN</td>\n",
       "      <td>...</td>\n",
       "      <td>NaN</td>\n",
       "      <td>NaN</td>\n",
       "      <td>NaN</td>\n",
       "      <td>NaN</td>\n",
       "      <td>NaN</td>\n",
       "      <td>NaN</td>\n",
       "      <td>NaN</td>\n",
       "      <td>NaN</td>\n",
       "      <td>NaN</td>\n",
       "      <td>0</td>\n",
       "    </tr>\n",
       "    <tr>\n",
       "      <th>95812</th>\n",
       "      <td>Forfaits 99 dhs</td>\n",
       "      <td>non_churners</td>\n",
       "      <td>2024-09-27</td>\n",
       "      <td>NaN</td>\n",
       "      <td>20240607</td>\n",
       "      <td>NaN</td>\n",
       "      <td>NaN</td>\n",
       "      <td>NaN</td>\n",
       "      <td>NaN</td>\n",
       "      <td>NaN</td>\n",
       "      <td>...</td>\n",
       "      <td>NaN</td>\n",
       "      <td>NaN</td>\n",
       "      <td>NaN</td>\n",
       "      <td>NaN</td>\n",
       "      <td>NaN</td>\n",
       "      <td>NaN</td>\n",
       "      <td>NaN</td>\n",
       "      <td>NaN</td>\n",
       "      <td>NaN</td>\n",
       "      <td>0</td>\n",
       "    </tr>\n",
       "    <tr>\n",
       "      <th>145859</th>\n",
       "      <td>Forfaits Hors 99 dhs</td>\n",
       "      <td>non_churners</td>\n",
       "      <td>2024-09-27</td>\n",
       "      <td>NaN</td>\n",
       "      <td>20240607</td>\n",
       "      <td>NaN</td>\n",
       "      <td>NaN</td>\n",
       "      <td>NaN</td>\n",
       "      <td>NaN</td>\n",
       "      <td>NaN</td>\n",
       "      <td>...</td>\n",
       "      <td>NaN</td>\n",
       "      <td>NaN</td>\n",
       "      <td>NaN</td>\n",
       "      <td>NaN</td>\n",
       "      <td>NaN</td>\n",
       "      <td>NaN</td>\n",
       "      <td>NaN</td>\n",
       "      <td>NaN</td>\n",
       "      <td>NaN</td>\n",
       "      <td>0</td>\n",
       "    </tr>\n",
       "    <tr>\n",
       "      <th>219656</th>\n",
       "      <td>Forfaits 99 dhs</td>\n",
       "      <td>non_churners</td>\n",
       "      <td>2024-09-27</td>\n",
       "      <td>NaN</td>\n",
       "      <td>20240607</td>\n",
       "      <td>NaN</td>\n",
       "      <td>NaN</td>\n",
       "      <td>NaN</td>\n",
       "      <td>NaN</td>\n",
       "      <td>NaN</td>\n",
       "      <td>...</td>\n",
       "      <td>NaN</td>\n",
       "      <td>NaN</td>\n",
       "      <td>NaN</td>\n",
       "      <td>NaN</td>\n",
       "      <td>NaN</td>\n",
       "      <td>NaN</td>\n",
       "      <td>NaN</td>\n",
       "      <td>NaN</td>\n",
       "      <td>NaN</td>\n",
       "      <td>0</td>\n",
       "    </tr>\n",
       "    <tr>\n",
       "      <th>677118</th>\n",
       "      <td>Forfaits 49 dhs</td>\n",
       "      <td>non_churners</td>\n",
       "      <td>2024-09-27</td>\n",
       "      <td>NaN</td>\n",
       "      <td>20240607</td>\n",
       "      <td>NaN</td>\n",
       "      <td>NaN</td>\n",
       "      <td>NaN</td>\n",
       "      <td>NaN</td>\n",
       "      <td>NaN</td>\n",
       "      <td>...</td>\n",
       "      <td>NaN</td>\n",
       "      <td>NaN</td>\n",
       "      <td>NaN</td>\n",
       "      <td>NaN</td>\n",
       "      <td>NaN</td>\n",
       "      <td>NaN</td>\n",
       "      <td>NaN</td>\n",
       "      <td>NaN</td>\n",
       "      <td>NaN</td>\n",
       "      <td>0</td>\n",
       "    </tr>\n",
       "  </tbody>\n",
       "</table>\n",
       "<p>5 rows × 3581 columns</p>\n",
       "</div>"
      ],
      "text/plain": [
       "                       gamme churn_segment  churn_date activation_bscs_date  \\\n",
       "636882       Forfaits 49 dhs  non_churners  2024-09-27                  NaN   \n",
       "95812        Forfaits 99 dhs  non_churners  2024-09-27                  NaN   \n",
       "145859  Forfaits Hors 99 dhs  non_churners  2024-09-27                  NaN   \n",
       "219656       Forfaits 99 dhs  non_churners  2024-09-27                  NaN   \n",
       "677118       Forfaits 49 dhs  non_churners  2024-09-27                  NaN   \n",
       "\n",
       "         id_date  \\\n",
       "636882  20240607   \n",
       "95812   20240607   \n",
       "145859  20240607   \n",
       "219656  20240607   \n",
       "677118  20240607   \n",
       "\n",
       "        complaints_complaints_complaint_status_abondon_duration_nb_1m  \\\n",
       "636882                                                NaN               \n",
       "95812                                                 NaN               \n",
       "145859                                                NaN               \n",
       "219656                                                NaN               \n",
       "677118                                                NaN               \n",
       "\n",
       "        complaints_complaints_complaint_status_abondon_total_nb_1m  \\\n",
       "636882                                                NaN            \n",
       "95812                                                 NaN            \n",
       "145859                                                NaN            \n",
       "219656                                                NaN            \n",
       "677118                                                NaN            \n",
       "\n",
       "        complaints_complaints_complaint_status_autre_duration_nb_1m  \\\n",
       "636882                                                NaN             \n",
       "95812                                                 NaN             \n",
       "145859                                                NaN             \n",
       "219656                                                NaN             \n",
       "677118                                                NaN             \n",
       "\n",
       "        complaints_complaints_complaint_status_autre_total_nb_1m  \\\n",
       "636882                                                NaN          \n",
       "95812                                                 NaN          \n",
       "145859                                                NaN          \n",
       "219656                                                NaN          \n",
       "677118                                                NaN          \n",
       "\n",
       "        complaints_complaints_complaint_status_clos_duration_nb_1m  ...  \\\n",
       "636882                                                NaN           ...   \n",
       "95812                                                 NaN           ...   \n",
       "145859                                                NaN           ...   \n",
       "219656                                                NaN           ...   \n",
       "677118                                                NaN           ...   \n",
       "\n",
       "        voice_call_direction_oc_duration_value_1_3w_3_4w  \\\n",
       "636882                                               NaN   \n",
       "95812                                                NaN   \n",
       "145859                                               NaN   \n",
       "219656                                               NaN   \n",
       "677118                                               NaN   \n",
       "\n",
       "        voice_destination_type_international_duration_value_1_3w_3_4w  \\\n",
       "636882                                                NaN               \n",
       "95812                                                 NaN               \n",
       "145859                                                NaN               \n",
       "219656                                                NaN               \n",
       "677118                                                NaN               \n",
       "\n",
       "        voice_destination_type_national_duration_value_1_3w_3_4w  \\\n",
       "636882                                                NaN          \n",
       "95812                                                 NaN          \n",
       "145859                                                NaN          \n",
       "219656                                                NaN          \n",
       "677118                                                NaN          \n",
       "\n",
       "        voice_termination_type_offnet_duration_value_1_3w_3_4w  \\\n",
       "636882                                                NaN        \n",
       "95812                                                 NaN        \n",
       "145859                                                NaN        \n",
       "219656                                                NaN        \n",
       "677118                                                NaN        \n",
       "\n",
       "        voice_termination_type_onnet_duration_value_1_3w_3_4w  \\\n",
       "636882                                                NaN       \n",
       "95812                                                 NaN       \n",
       "145859                                                NaN       \n",
       "219656                                                NaN       \n",
       "677118                                                NaN       \n",
       "\n",
       "        voice_weekend_n_duration_value_1_3w_3_4w  \\\n",
       "636882                                       NaN   \n",
       "95812                                        NaN   \n",
       "145859                                       NaN   \n",
       "219656                                       NaN   \n",
       "677118                                       NaN   \n",
       "\n",
       "        voice_weekend_y_duration_value_1_3w_3_4w  \\\n",
       "636882                                       NaN   \n",
       "95812                                        NaN   \n",
       "145859                                       NaN   \n",
       "219656                                       NaN   \n",
       "677118                                       NaN   \n",
       "\n",
       "        voice_workingh_n_duration_value_1_3w_3_4w  \\\n",
       "636882                                        NaN   \n",
       "95812                                         NaN   \n",
       "145859                                        NaN   \n",
       "219656                                        NaN   \n",
       "677118                                        NaN   \n",
       "\n",
       "        voice_workingh_y_duration_value_1_3w_3_4w  churn  \n",
       "636882                                        NaN      0  \n",
       "95812                                         NaN      0  \n",
       "145859                                        NaN      0  \n",
       "219656                                        NaN      0  \n",
       "677118                                        NaN      0  \n",
       "\n",
       "[5 rows x 3581 columns]"
      ]
     },
     "execution_count": 37,
     "metadata": {},
     "output_type": "execute_result"
    }
   ],
   "source": [
    "#Show some duplicated rows\n",
    "duplicated_rows = df_train_without_dn[df_train_without_dn.duplicated()]\n",
    "duplicated_rows.head()"
   ]
  },
  {
   "cell_type": "markdown",
   "metadata": {},
   "source": [
    "Are these duplicated rows all null ? meaning are all their values missing values ?"
   ]
  },
  {
   "cell_type": "code",
   "execution_count": 38,
   "metadata": {},
   "outputs": [
    {
     "name": "stdout",
     "output_type": "stream",
     "text": [
      "Nbr of duplicated rows that acctually contains values :\n"
     ]
    },
    {
     "data": {
      "text/plain": [
       "1375"
      ]
     },
     "execution_count": 38,
     "metadata": {},
     "output_type": "execute_result"
    }
   ],
   "source": [
    "#See if all duplicated rows contains only missing values\n",
    "#Exclude churn columns from duplicated rows \n",
    "features_duplicated_rows = duplicated_rows [duplicated_rows.columns[5:-1]]\n",
    "columnsToMissingValues_features_duplicated_rows =  pd.DataFrame({\"columns\": features_duplicated_rows.columns,\n",
    "                                                                \"perc_missing_values\": (features_duplicated_rows.isna().sum()/len(features_duplicated_rows))*100})\n",
    "columnsToMissingValues_features_duplicated_rows.reset_index(drop = True, inplace=True)\n",
    "print (\"Nbr of duplicated rows that acctually contains values :\")\n",
    "len (columnsToMissingValues_features_duplicated_rows[columnsToMissingValues_features_duplicated_rows[\"perc_missing_values\"]<100 ])"
   ]
  }
 ],
 "metadata": {
  "kernelspec": {
   "display_name": "py36",
   "language": "python",
   "name": "py36"
  },
  "language_info": {
   "codemirror_mode": {
    "name": "ipython",
    "version": 3
   },
   "file_extension": ".py",
   "mimetype": "text/x-python",
   "name": "python",
   "nbconvert_exporter": "python",
   "pygments_lexer": "ipython3",
   "version": "3.6.12"
  }
 },
 "nbformat": 4,
 "nbformat_minor": 4
}
