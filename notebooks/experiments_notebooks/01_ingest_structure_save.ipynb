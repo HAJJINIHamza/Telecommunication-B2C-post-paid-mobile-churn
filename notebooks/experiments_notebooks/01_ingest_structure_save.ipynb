{
 "cells": [
  {
   "cell_type": "markdown",
   "metadata": {},
   "source": [
    "# Ingest and Structure data from impala and save it "
   ]
  },
  {
   "cell_type": "markdown",
   "metadata": {},
   "source": [
    "This notebook contains the first experiments on learning features.\n",
    "\n",
    "It consists of joining and concatinating different learning features into one dataframe df. handling duplicates, missing values and outliers.\n",
    "\n",
    "1. [Packages](#Packages)\n",
    "1. [Loading data](#Loding-data)\n",
    "2. [Sample and save data](#Sample-and-save-data)\n",
    "3. [Target column](#Target-column)\n",
    "4. [Train Test Split](#Train-Test-Split)"
   ]
  },
  {
   "cell_type": "markdown",
   "metadata": {},
   "source": [
    "### Packages"
   ]
  },
  {
   "cell_type": "code",
   "execution_count": 1,
   "metadata": {},
   "outputs": [
    {
     "data": {
      "text/plain": [
       "'/home/hamza_hajjini@MCC.DOMAIN/bcppmchurn'"
      ]
     },
     "execution_count": 1,
     "metadata": {},
     "output_type": "execute_result"
    }
   ],
   "source": [
    "import os\n",
    "#Change current directory\n",
    "os.chdir ('/home/hamza_hajjini@MCC.DOMAIN/bcppmchurn')\n",
    "#Check the current directory\n",
    "os.getcwd()"
   ]
  },
  {
   "cell_type": "code",
   "execution_count": 81,
   "metadata": {},
   "outputs": [],
   "source": [
    "import pandas as pd \n",
    "import matplotlib.pyplot as plt \n",
    "import seaborn as sns\n",
    "import os\n",
    "from datetime import datetime \n",
    "from scipy import stats\n",
    "from pyspark.sql import SparkSession\n",
    "from pyspark.sql import functions\n",
    "import yaml \n",
    "\n",
    "from sklearn.model_selection import train_test_split \n",
    "\n",
    "from src.components.data_ingestion import get_feature_tables_from_impala, get_target_table \n",
    "from src.components.data_structuring import structuringPipeline\n",
    "from src.eda import utils\n",
    "from src.eda.utils import columnsFamilies"
   ]
  },
  {
   "cell_type": "code",
   "execution_count": 3,
   "metadata": {},
   "outputs": [],
   "source": [
    "#Get todays's date\n",
    "date_time = datetime.today().strftime(\"%Y-%m-%d\")\n",
    "#Declare paths\n",
    "train_dev_test_path = \"data/train_dev_test\"\n",
    "data_path = \"data/experiments_data\"\n",
    "data_samples_path = \"data/data_samples\"\n",
    "artifacts_path = \"artifacts/eda\""
   ]
  },
  {
   "cell_type": "code",
   "execution_count": 4,
   "metadata": {},
   "outputs": [],
   "source": [
    "#Reload modules in case a change has occured\n",
    "#import importlib\n",
    "#from src.components import data_ingestion, data_structuring\n",
    "#importlib.reload(data_ingestion)\n",
    "#importlib.reload(data_structuring)"
   ]
  },
  {
   "cell_type": "markdown",
   "metadata": {},
   "source": [
    "### Loding data"
   ]
  },
  {
   "cell_type": "markdown",
   "metadata": {},
   "source": [
    "--------------------"
   ]
  },
  {
   "cell_type": "markdown",
   "metadata": {},
   "source": [
    "**Load data from impala**"
   ]
  },
  {
   "cell_type": "code",
   "execution_count": 5,
   "metadata": {},
   "outputs": [
    {
     "name": "stdout",
     "output_type": "stream",
     "text": [
      "Getting Kerberos ticket .............................................................................\n",
      "Obtained kerberos ticket succeffully\n",
      "Initiating spark session ............................................................................\n",
      "Loading tel_test_dtddds.dev_bcppmchurn_learning_data_stat_features ..................................\n",
      "tel_test_dtddds.dev_bcppmchurn_learning_data_stat_features shape is: (5020380, 16) ................................\n",
      "Loading tel_test_dtddds.dev_bcppmchurn_learning_data_trend_features ..................................\n",
      "tel_test_dtddds.dev_bcppmchurn_learning_data_trend_features shape is: (5020380, 17) ................................\n",
      "Loading tel_test_dtddds.dev_bcppmchurn_learning_voice_stat_features ..................................\n",
      "tel_test_dtddds.dev_bcppmchurn_learning_voice_stat_features shape is: (3391096, 16) ................................\n",
      "Loading tel_test_dtddds.dev_bcppmchurn_learning_voice_trend_features ..................................\n",
      "tel_test_dtddds.dev_bcppmchurn_learning_voice_trend_features shape is: (3391096, 17) ................................\n",
      "Loading tel_test_dtddds.dev_bcppmchurn_learning_complaints_stat_features ..................................\n",
      "tel_test_dtddds.dev_bcppmchurn_learning_complaints_stat_features shape is: (1934070, 16) ................................\n",
      "Loading tel_test_dtddds.dev_bcppmchurn_learning_complaints_trend_features ..................................\n",
      "tel_test_dtddds.dev_bcppmchurn_learning_complaints_trend_features shape is: (1934070, 17) ................................\n",
      "Loading tel_test_dtddds.dev_bcppmchurn_learning_payment_stat_features ..................................\n",
      "tel_test_dtddds.dev_bcppmchurn_learning_payment_stat_features shape is: (12970155, 10) ................................\n",
      "Loading tel_test_dtddds.dev_bcppmchurn_learning_payment_trend_features ..................................\n",
      "tel_test_dtddds.dev_bcppmchurn_learning_payment_trend_features shape is: (12970155, 11) ................................\n",
      "Getting Kerberos ticket .............................................................................\n",
      "Obtained kerberos ticket succeffully\n",
      "Initiating spark session ............................................................................\n",
      "Loading target_table : tel_test_dtddds.dev_bcppmchurn_target_table_pc3_20240607\n",
      "tel_test_dtddds.dev_bcppmchurn_target_table_pc3_20240607 shape is: (738013, 6)\n",
      "Starting data structuring\n",
      "pivoting table\n",
      "Merging\n",
      "Target table left joining feature tables pivoted\n"
     ]
    },
    {
     "data": {
      "text/html": [
       "<div>\n",
       "<style scoped>\n",
       "    .dataframe tbody tr th:only-of-type {\n",
       "        vertical-align: middle;\n",
       "    }\n",
       "\n",
       "    .dataframe tbody tr th {\n",
       "        vertical-align: top;\n",
       "    }\n",
       "\n",
       "    .dataframe thead th {\n",
       "        text-align: right;\n",
       "    }\n",
       "</style>\n",
       "<table border=\"1\" class=\"dataframe\">\n",
       "  <thead>\n",
       "    <tr style=\"text-align: right;\">\n",
       "      <th></th>\n",
       "      <th>dn</th>\n",
       "      <th>gamme</th>\n",
       "      <th>churn_segment</th>\n",
       "      <th>churn_date</th>\n",
       "      <th>activation_bscs_date</th>\n",
       "      <th>id_date</th>\n",
       "      <th>complaints_complaints_complaint_status_abondon_duration_nb_1m</th>\n",
       "      <th>complaints_complaints_complaint_status_abondon_total_nb_1m</th>\n",
       "      <th>complaints_complaints_complaint_status_autre_duration_nb_1m</th>\n",
       "      <th>complaints_complaints_complaint_status_autre_total_nb_1m</th>\n",
       "      <th>...</th>\n",
       "      <th>voice_call_direction_ic_duration_value_1_3w_3_4w</th>\n",
       "      <th>voice_call_direction_oc_duration_value_1_3w_3_4w</th>\n",
       "      <th>voice_destination_type_international_duration_value_1_3w_3_4w</th>\n",
       "      <th>voice_destination_type_national_duration_value_1_3w_3_4w</th>\n",
       "      <th>voice_termination_type_offnet_duration_value_1_3w_3_4w</th>\n",
       "      <th>voice_termination_type_onnet_duration_value_1_3w_3_4w</th>\n",
       "      <th>voice_weekend_n_duration_value_1_3w_3_4w</th>\n",
       "      <th>voice_weekend_y_duration_value_1_3w_3_4w</th>\n",
       "      <th>voice_workingh_n_duration_value_1_3w_3_4w</th>\n",
       "      <th>voice_workingh_y_duration_value_1_3w_3_4w</th>\n",
       "    </tr>\n",
       "  </thead>\n",
       "  <tbody>\n",
       "    <tr>\n",
       "      <th>0</th>\n",
       "      <td>212602495129</td>\n",
       "      <td>Forfaits 49 dhs</td>\n",
       "      <td>non_churners</td>\n",
       "      <td>2024-02-25</td>\n",
       "      <td>2023-01-17 21:09:34</td>\n",
       "      <td>20240607</td>\n",
       "      <td>NaN</td>\n",
       "      <td>NaN</td>\n",
       "      <td>NaN</td>\n",
       "      <td>NaN</td>\n",
       "      <td>...</td>\n",
       "      <td>1.21109</td>\n",
       "      <td>2.562370</td>\n",
       "      <td>NaN</td>\n",
       "      <td>2.539916</td>\n",
       "      <td>2.484907</td>\n",
       "      <td>2.538944</td>\n",
       "      <td>3.490659</td>\n",
       "      <td>1.080202</td>\n",
       "      <td>2.095236</td>\n",
       "      <td>3.171898</td>\n",
       "    </tr>\n",
       "    <tr>\n",
       "      <th>1</th>\n",
       "      <td>212698494964</td>\n",
       "      <td>Forfaits 49 dhs</td>\n",
       "      <td>non_churners</td>\n",
       "      <td>2024-09-27</td>\n",
       "      <td>2024-04-21 14:21:56</td>\n",
       "      <td>20240607</td>\n",
       "      <td>NaN</td>\n",
       "      <td>NaN</td>\n",
       "      <td>NaN</td>\n",
       "      <td>NaN</td>\n",
       "      <td>...</td>\n",
       "      <td>NaN</td>\n",
       "      <td>NaN</td>\n",
       "      <td>NaN</td>\n",
       "      <td>NaN</td>\n",
       "      <td>NaN</td>\n",
       "      <td>NaN</td>\n",
       "      <td>NaN</td>\n",
       "      <td>NaN</td>\n",
       "      <td>NaN</td>\n",
       "      <td>NaN</td>\n",
       "    </tr>\n",
       "    <tr>\n",
       "      <th>2</th>\n",
       "      <td>212602646609</td>\n",
       "      <td>Forfaits 49 dhs</td>\n",
       "      <td>non_churners</td>\n",
       "      <td>2024-09-27</td>\n",
       "      <td>2024-05-09 13:08:12</td>\n",
       "      <td>20240607</td>\n",
       "      <td>NaN</td>\n",
       "      <td>NaN</td>\n",
       "      <td>NaN</td>\n",
       "      <td>NaN</td>\n",
       "      <td>...</td>\n",
       "      <td>NaN</td>\n",
       "      <td>0.000000</td>\n",
       "      <td>NaN</td>\n",
       "      <td>0.000000</td>\n",
       "      <td>0.000000</td>\n",
       "      <td>0.000000</td>\n",
       "      <td>0.000000</td>\n",
       "      <td>0.000000</td>\n",
       "      <td>0.000000</td>\n",
       "      <td>0.000000</td>\n",
       "    </tr>\n",
       "    <tr>\n",
       "      <th>3</th>\n",
       "      <td>212601341395</td>\n",
       "      <td>Forfaits 99 dhs</td>\n",
       "      <td>non_churners</td>\n",
       "      <td>2024-02-19</td>\n",
       "      <td>2022-10-03 18:50:24</td>\n",
       "      <td>20240607</td>\n",
       "      <td>NaN</td>\n",
       "      <td>NaN</td>\n",
       "      <td>NaN</td>\n",
       "      <td>NaN</td>\n",
       "      <td>...</td>\n",
       "      <td>NaN</td>\n",
       "      <td>NaN</td>\n",
       "      <td>NaN</td>\n",
       "      <td>NaN</td>\n",
       "      <td>NaN</td>\n",
       "      <td>NaN</td>\n",
       "      <td>NaN</td>\n",
       "      <td>NaN</td>\n",
       "      <td>NaN</td>\n",
       "      <td>NaN</td>\n",
       "    </tr>\n",
       "    <tr>\n",
       "      <th>4</th>\n",
       "      <td>212701119852</td>\n",
       "      <td>Forfaits 49 dhs</td>\n",
       "      <td>non_churners</td>\n",
       "      <td>2024-02-12</td>\n",
       "      <td>2020-10-31 12:59:13</td>\n",
       "      <td>20240607</td>\n",
       "      <td>NaN</td>\n",
       "      <td>NaN</td>\n",
       "      <td>NaN</td>\n",
       "      <td>NaN</td>\n",
       "      <td>...</td>\n",
       "      <td>NaN</td>\n",
       "      <td>-2.735131</td>\n",
       "      <td>NaN</td>\n",
       "      <td>-2.735131</td>\n",
       "      <td>-2.772589</td>\n",
       "      <td>-2.677018</td>\n",
       "      <td>-4.262680</td>\n",
       "      <td>0.000000</td>\n",
       "      <td>-3.097515</td>\n",
       "      <td>-2.581298</td>\n",
       "    </tr>\n",
       "  </tbody>\n",
       "</table>\n",
       "<p>5 rows × 3581 columns</p>\n",
       "</div>"
      ],
      "text/plain": [
       "             dn            gamme churn_segment  churn_date  \\\n",
       "0  212602495129  Forfaits 49 dhs  non_churners  2024-02-25   \n",
       "1  212698494964  Forfaits 49 dhs  non_churners  2024-09-27   \n",
       "2  212602646609  Forfaits 49 dhs  non_churners  2024-09-27   \n",
       "3  212601341395  Forfaits 99 dhs  non_churners  2024-02-19   \n",
       "4  212701119852  Forfaits 49 dhs  non_churners  2024-02-12   \n",
       "\n",
       "  activation_bscs_date   id_date  \\\n",
       "0  2023-01-17 21:09:34  20240607   \n",
       "1  2024-04-21 14:21:56  20240607   \n",
       "2  2024-05-09 13:08:12  20240607   \n",
       "3  2022-10-03 18:50:24  20240607   \n",
       "4  2020-10-31 12:59:13  20240607   \n",
       "\n",
       "   complaints_complaints_complaint_status_abondon_duration_nb_1m  \\\n",
       "0                                                NaN               \n",
       "1                                                NaN               \n",
       "2                                                NaN               \n",
       "3                                                NaN               \n",
       "4                                                NaN               \n",
       "\n",
       "   complaints_complaints_complaint_status_abondon_total_nb_1m  \\\n",
       "0                                                NaN            \n",
       "1                                                NaN            \n",
       "2                                                NaN            \n",
       "3                                                NaN            \n",
       "4                                                NaN            \n",
       "\n",
       "   complaints_complaints_complaint_status_autre_duration_nb_1m  \\\n",
       "0                                                NaN             \n",
       "1                                                NaN             \n",
       "2                                                NaN             \n",
       "3                                                NaN             \n",
       "4                                                NaN             \n",
       "\n",
       "   complaints_complaints_complaint_status_autre_total_nb_1m  ...  \\\n",
       "0                                                NaN         ...   \n",
       "1                                                NaN         ...   \n",
       "2                                                NaN         ...   \n",
       "3                                                NaN         ...   \n",
       "4                                                NaN         ...   \n",
       "\n",
       "   voice_call_direction_ic_duration_value_1_3w_3_4w  \\\n",
       "0                                           1.21109   \n",
       "1                                               NaN   \n",
       "2                                               NaN   \n",
       "3                                               NaN   \n",
       "4                                               NaN   \n",
       "\n",
       "   voice_call_direction_oc_duration_value_1_3w_3_4w  \\\n",
       "0                                          2.562370   \n",
       "1                                               NaN   \n",
       "2                                          0.000000   \n",
       "3                                               NaN   \n",
       "4                                         -2.735131   \n",
       "\n",
       "   voice_destination_type_international_duration_value_1_3w_3_4w  \\\n",
       "0                                                NaN               \n",
       "1                                                NaN               \n",
       "2                                                NaN               \n",
       "3                                                NaN               \n",
       "4                                                NaN               \n",
       "\n",
       "   voice_destination_type_national_duration_value_1_3w_3_4w  \\\n",
       "0                                           2.539916          \n",
       "1                                                NaN          \n",
       "2                                           0.000000          \n",
       "3                                                NaN          \n",
       "4                                          -2.735131          \n",
       "\n",
       "   voice_termination_type_offnet_duration_value_1_3w_3_4w  \\\n",
       "0                                           2.484907        \n",
       "1                                                NaN        \n",
       "2                                           0.000000        \n",
       "3                                                NaN        \n",
       "4                                          -2.772589        \n",
       "\n",
       "   voice_termination_type_onnet_duration_value_1_3w_3_4w  \\\n",
       "0                                           2.538944       \n",
       "1                                                NaN       \n",
       "2                                           0.000000       \n",
       "3                                                NaN       \n",
       "4                                          -2.677018       \n",
       "\n",
       "   voice_weekend_n_duration_value_1_3w_3_4w  \\\n",
       "0                                  3.490659   \n",
       "1                                       NaN   \n",
       "2                                  0.000000   \n",
       "3                                       NaN   \n",
       "4                                 -4.262680   \n",
       "\n",
       "   voice_weekend_y_duration_value_1_3w_3_4w  \\\n",
       "0                                  1.080202   \n",
       "1                                       NaN   \n",
       "2                                  0.000000   \n",
       "3                                       NaN   \n",
       "4                                  0.000000   \n",
       "\n",
       "   voice_workingh_n_duration_value_1_3w_3_4w  \\\n",
       "0                                   2.095236   \n",
       "1                                        NaN   \n",
       "2                                   0.000000   \n",
       "3                                        NaN   \n",
       "4                                  -3.097515   \n",
       "\n",
       "   voice_workingh_y_duration_value_1_3w_3_4w  \n",
       "0                                   3.171898  \n",
       "1                                        NaN  \n",
       "2                                   0.000000  \n",
       "3                                        NaN  \n",
       "4                                  -2.581298  \n",
       "\n",
       "[5 rows x 3581 columns]"
      ]
     },
     "execution_count": 5,
     "metadata": {},
     "output_type": "execute_result"
    }
   ],
   "source": [
    "domains =[\"data\", \"voice\", \"complaints\", \"payement\"]\n",
    "feature_types = [\"stat\", \"trend\"]\n",
    "dn_group_interval = [\"00\", \"58\"]\n",
    "#Initiate a spark session and get table features \n",
    "features_dict = get_feature_tables_from_impala(domains, feature_types, dn_group_interval) \n",
    "#Get target table\n",
    "churners_non_churners = get_target_table()\n",
    "#Structure table featues into a dataframe\n",
    "df, pivoted_df = structuringPipeline(features_dict, churners_non_churners).run_structuring_pipeline()\n",
    "df.head()"
   ]
  },
  {
   "cell_type": "markdown",
   "metadata": {},
   "source": [
    "**Save data**"
   ]
  },
  {
   "cell_type": "code",
   "execution_count": 40,
   "metadata": {},
   "outputs": [],
   "source": [
    "#Save feature tables\n",
    "features_dict[\"data\"][\"stat\"].to_csv(f\"{data_path}/{date_time}_data_stat_features.csv\")\n",
    "features_dict[\"data\"][\"trend\"].to_csv(f\"{data_path}/{date_time}_data_trend_features.csv\")\n",
    "features_dict[\"voice\"][\"stat\"].to_csv(f\"{data_path}/{date_time}_voice_stat_features.csv\")\n",
    "features_dict[\"voice\"][\"trend\"].to_csv(f\"{data_path}/{date_time}_voice_trend_features.csv\")\n",
    "features_dict[\"complaints\"][\"stat\"].to_csv(f\"{data_path}/{date_time}_complaints_stat_features.csv\")\n",
    "features_dict[\"complaints\"][\"trend\"].to_csv(f\"{data_path}/{date_time}_complaints_trend_features.csv\")\n",
    "features_dict[\"payement\"][\"stat\"].to_csv(f\"{data_path}/{date_time}_payement_stat_features.csv\")\n",
    "features_dict[\"payement\"][\"trend\"].to_csv(f\"{data_path}/{date_time}_payement_trend_features.csv\")"
   ]
  },
  {
   "cell_type": "code",
   "execution_count": null,
   "metadata": {},
   "outputs": [],
   "source": [
    "#Save test_samples\n",
    "#df.to_csv(f\"{data_path}/{date_time}_test_sample_final_df.csv\", index = False)\n",
    "#churners_non_churners.to_csv(f\"{data_path}/{date_time}_test_sample_churners_non_churners.csv\", index = False)\n",
    "#features_dict[\"voice\"][\"stat\"].to_csv(f\"{data_path}/{date_time}_test_sample_voice_stat_features.csv\", index = False)\n",
    "#features_dict[\"voice\"][\"trend\"].to_csv(f\"{data_path}/{date_time}_test_sample_voice_trend_features.csv\", index = False)"
   ]
  },
  {
   "cell_type": "code",
   "execution_count": null,
   "metadata": {},
   "outputs": [],
   "source": [
    "#Saving a sample of final df\n",
    "df.to_csv(f\"{data_path}/{date_time}_final_df.csv\", index = True)"
   ]
  },
  {
   "cell_type": "code",
   "execution_count": 24,
   "metadata": {},
   "outputs": [],
   "source": [
    "#Save list of columns\n",
    "#pd.DataFrame ({\"columns\": df.columns.to_list()}).to_csv(f\"{artifacts_path}/{date_time}__df_columns.csv\", index=False)"
   ]
  },
  {
   "cell_type": "code",
   "execution_count": 52,
   "metadata": {},
   "outputs": [],
   "source": [
    "#Save churners non churners \n",
    "churners_non_churners.to_csv(f\"{data_path}/{date_time}_target_table.csv\")"
   ]
  },
  {
   "cell_type": "code",
   "execution_count": 100,
   "metadata": {},
   "outputs": [],
   "source": [
    "#Save pivoted table which doesn't contain churn table \n",
    "pivoted_df.to_csv(f\"{data_path}/{date_time}_pivoted_df.csv\", index= True)"
   ]
  },
  {
   "cell_type": "markdown",
   "metadata": {},
   "source": [
    "--------------"
   ]
  },
  {
   "cell_type": "markdown",
   "metadata": {},
   "source": [
    "**Quick test**"
   ]
  },
  {
   "cell_type": "code",
   "execution_count": null,
   "metadata": {},
   "outputs": [],
   "source": [
    "#Quick test \n",
    "print ( \"Quick check\" )\n",
    "print ( f\"df shape : {df.shape}\" )\n",
    "#print ( f\"df columns : {df.columns.to_list()}\" )"
   ]
  },
  {
   "cell_type": "code",
   "execution_count": 64,
   "metadata": {},
   "outputs": [
    {
     "name": "stdout",
     "output_type": "stream",
     "text": [
      "Number of duplicate dns in df is: 5969\n"
     ]
    }
   ],
   "source": [
    "#Quick test: \n",
    "print ( f\"Number of duplicate dns in df is: {df.dn.duplicated().sum()}\")"
   ]
  },
  {
   "cell_type": "markdown",
   "metadata": {},
   "source": [
    "This is normal because target table contains duplicated dns "
   ]
  },
  {
   "cell_type": "code",
   "execution_count": 105,
   "metadata": {},
   "outputs": [
    {
     "name": "stdout",
     "output_type": "stream",
     "text": [
      "Number of distinct dns in final df : 732044 \n",
      "Should be 732044\n"
     ]
    }
   ],
   "source": [
    "#Unit test to verify if data is valid\n",
    "print (f\"Number of distinct dns in final df : {df.dn.nunique()} \")\n",
    "print (\"Should be 732044\")"
   ]
  },
  {
   "cell_type": "code",
   "execution_count": 113,
   "metadata": {},
   "outputs": [
    {
     "data": {
      "text/plain": [
       "428189"
      ]
     },
     "execution_count": 113,
     "metadata": {},
     "output_type": "execute_result"
    }
   ],
   "source": [
    "#Dinstinct dns in pivoted table 428189\n",
    "pivoted_df.index.nunique()"
   ]
  },
  {
   "cell_type": "code",
   "execution_count": 127,
   "metadata": {},
   "outputs": [
    {
     "data": {
      "text/plain": [
       "732044"
      ]
     },
     "execution_count": 127,
     "metadata": {},
     "output_type": "execute_result"
    }
   ],
   "source": [
    "len (list(df.dn.unique()))"
   ]
  },
  {
   "cell_type": "code",
   "execution_count": null,
   "metadata": {},
   "outputs": [],
   "source": [
    "#See if all dns from pivoted_df exists in final df\n",
    "list_of_dns_in_pivoted_df = pivoted_df.index.unique().to_list()\n",
    "list_of_dns_in_df = list(df.dn.unique())\n",
    "list_of_dns_in_pivoted_df_but_not_in_df = [dn for dn in list_of_dns_in_pivoted_df if dn not in list_of_dns_in_df]"
   ]
  },
  {
   "cell_type": "markdown",
   "metadata": {},
   "source": [
    "### Sample and save data"
   ]
  },
  {
   "cell_type": "code",
   "execution_count": 131,
   "metadata": {},
   "outputs": [
    {
     "data": {
      "text/plain": [
       "non_churners                        493363\n",
       "inactif_unknown_churners            233097\n",
       "churn_operateur_actif                10602\n",
       "churn_client_demande_resiliation       593\n",
       "churn_operateur_inactif                299\n",
       "churn_client_portaout                   59\n",
       "Name: churn_segment, dtype: int64"
      ]
     },
     "execution_count": 131,
     "metadata": {},
     "output_type": "execute_result"
    }
   ],
   "source": [
    "#See churn_segments \n",
    "df[\"churn_segment\"].value_counts()"
   ]
  },
  {
   "cell_type": "code",
   "execution_count": 132,
   "metadata": {},
   "outputs": [],
   "source": [
    "df_non_churners = df[df[\"churn_segment\"].isin([\"non_churners\"])].sample(n=150000, random_state=42)"
   ]
  },
  {
   "cell_type": "code",
   "execution_count": 133,
   "metadata": {},
   "outputs": [],
   "source": [
    "df_inactif_churners = df[df[\"churn_segment\"].isin([\"inactif_unknown_churners\"])].sample(n=140000, random_state=42)"
   ]
  },
  {
   "cell_type": "code",
   "execution_count": 134,
   "metadata": {},
   "outputs": [],
   "source": [
    "df_churn_operateur_actif = df[df[\"churn_segment\"].isin([\"churn_operateur_actif\"])].sample(n=10602, random_state=42)"
   ]
  },
  {
   "cell_type": "code",
   "execution_count": 135,
   "metadata": {},
   "outputs": [],
   "source": [
    "df_churn_operateur_actif.to_csv(f\"{data_samples_path}/{date_time}_df_churn_operateur_actif.csv\", index=True)\n",
    "df_inactif_churners.to_csv(f\"{data_samples_path}/{date_time}_df_inactif_churners.csv\", index= True)\n",
    "df_non_churners.to_csv(f\"{data_samples_path}/{date_time}_df_non_churnsers.csv\", index= True)"
   ]
  },
  {
   "cell_type": "code",
   "execution_count": 136,
   "metadata": {},
   "outputs": [
    {
     "data": {
      "text/plain": [
       "(300602, 3581)"
      ]
     },
     "execution_count": 136,
     "metadata": {},
     "output_type": "execute_result"
    }
   ],
   "source": [
    "concat_df = pd.concat ([df_non_churners, df_inactif_churners, df_churn_operateur_actif])\n",
    "concat_df.shape"
   ]
  },
  {
   "cell_type": "code",
   "execution_count": 137,
   "metadata": {},
   "outputs": [
    {
     "data": {
      "text/html": [
       "<div>\n",
       "<style scoped>\n",
       "    .dataframe tbody tr th:only-of-type {\n",
       "        vertical-align: middle;\n",
       "    }\n",
       "\n",
       "    .dataframe tbody tr th {\n",
       "        vertical-align: top;\n",
       "    }\n",
       "\n",
       "    .dataframe thead th {\n",
       "        text-align: right;\n",
       "    }\n",
       "</style>\n",
       "<table border=\"1\" class=\"dataframe\">\n",
       "  <thead>\n",
       "    <tr style=\"text-align: right;\">\n",
       "      <th></th>\n",
       "      <th>dn</th>\n",
       "      <th>gamme</th>\n",
       "      <th>churn_segment</th>\n",
       "      <th>churn_date</th>\n",
       "      <th>activation_bscs_date</th>\n",
       "      <th>id_date</th>\n",
       "      <th>complaints_complaints_complaint_status_abondon_duration_nb_1m</th>\n",
       "      <th>complaints_complaints_complaint_status_abondon_total_nb_1m</th>\n",
       "      <th>complaints_complaints_complaint_status_autre_duration_nb_1m</th>\n",
       "      <th>complaints_complaints_complaint_status_autre_total_nb_1m</th>\n",
       "      <th>...</th>\n",
       "      <th>voice_call_direction_ic_duration_value_1_3w_3_4w</th>\n",
       "      <th>voice_call_direction_oc_duration_value_1_3w_3_4w</th>\n",
       "      <th>voice_destination_type_international_duration_value_1_3w_3_4w</th>\n",
       "      <th>voice_destination_type_national_duration_value_1_3w_3_4w</th>\n",
       "      <th>voice_termination_type_offnet_duration_value_1_3w_3_4w</th>\n",
       "      <th>voice_termination_type_onnet_duration_value_1_3w_3_4w</th>\n",
       "      <th>voice_weekend_n_duration_value_1_3w_3_4w</th>\n",
       "      <th>voice_weekend_y_duration_value_1_3w_3_4w</th>\n",
       "      <th>voice_workingh_n_duration_value_1_3w_3_4w</th>\n",
       "      <th>voice_workingh_y_duration_value_1_3w_3_4w</th>\n",
       "    </tr>\n",
       "  </thead>\n",
       "  <tbody>\n",
       "    <tr>\n",
       "      <th>86494</th>\n",
       "      <td>212720709865</td>\n",
       "      <td>Forfaits 49 dhs</td>\n",
       "      <td>non_churners</td>\n",
       "      <td>2024-03-29</td>\n",
       "      <td>2023-07-31 05:49:26</td>\n",
       "      <td>20240607</td>\n",
       "      <td>NaN</td>\n",
       "      <td>NaN</td>\n",
       "      <td>NaN</td>\n",
       "      <td>NaN</td>\n",
       "      <td>...</td>\n",
       "      <td>NaN</td>\n",
       "      <td>NaN</td>\n",
       "      <td>NaN</td>\n",
       "      <td>NaN</td>\n",
       "      <td>NaN</td>\n",
       "      <td>NaN</td>\n",
       "      <td>NaN</td>\n",
       "      <td>NaN</td>\n",
       "      <td>NaN</td>\n",
       "      <td>NaN</td>\n",
       "    </tr>\n",
       "    <tr>\n",
       "      <th>310144</th>\n",
       "      <td>212701288625</td>\n",
       "      <td>Forfaits 99 dhs</td>\n",
       "      <td>non_churners</td>\n",
       "      <td>2024-04-15</td>\n",
       "      <td>2021-06-01 20:29:48</td>\n",
       "      <td>20240607</td>\n",
       "      <td>NaN</td>\n",
       "      <td>NaN</td>\n",
       "      <td>NaN</td>\n",
       "      <td>NaN</td>\n",
       "      <td>...</td>\n",
       "      <td>NaN</td>\n",
       "      <td>0.418958</td>\n",
       "      <td>NaN</td>\n",
       "      <td>0.418958</td>\n",
       "      <td>0.265494</td>\n",
       "      <td>4.248495</td>\n",
       "      <td>2.503256</td>\n",
       "      <td>-0.126931</td>\n",
       "      <td>-1.318853</td>\n",
       "      <td>0.682406</td>\n",
       "    </tr>\n",
       "    <tr>\n",
       "      <th>631650</th>\n",
       "      <td>212690000398</td>\n",
       "      <td>Forfaits 49 dhs</td>\n",
       "      <td>non_churners</td>\n",
       "      <td>2024-05-25</td>\n",
       "      <td>2023-10-24 20:36:32</td>\n",
       "      <td>20240607</td>\n",
       "      <td>NaN</td>\n",
       "      <td>NaN</td>\n",
       "      <td>NaN</td>\n",
       "      <td>NaN</td>\n",
       "      <td>...</td>\n",
       "      <td>NaN</td>\n",
       "      <td>NaN</td>\n",
       "      <td>NaN</td>\n",
       "      <td>NaN</td>\n",
       "      <td>NaN</td>\n",
       "      <td>NaN</td>\n",
       "      <td>NaN</td>\n",
       "      <td>NaN</td>\n",
       "      <td>NaN</td>\n",
       "      <td>NaN</td>\n",
       "    </tr>\n",
       "    <tr>\n",
       "      <th>32049</th>\n",
       "      <td>212667252077</td>\n",
       "      <td>Forfaits 99 dhs</td>\n",
       "      <td>non_churners</td>\n",
       "      <td>2024-09-27</td>\n",
       "      <td>2024-04-05 11:33:48</td>\n",
       "      <td>20240607</td>\n",
       "      <td>NaN</td>\n",
       "      <td>NaN</td>\n",
       "      <td>NaN</td>\n",
       "      <td>NaN</td>\n",
       "      <td>...</td>\n",
       "      <td>NaN</td>\n",
       "      <td>NaN</td>\n",
       "      <td>NaN</td>\n",
       "      <td>NaN</td>\n",
       "      <td>NaN</td>\n",
       "      <td>NaN</td>\n",
       "      <td>NaN</td>\n",
       "      <td>NaN</td>\n",
       "      <td>NaN</td>\n",
       "      <td>NaN</td>\n",
       "    </tr>\n",
       "    <tr>\n",
       "      <th>407695</th>\n",
       "      <td>212640586903</td>\n",
       "      <td>Forfaits 49 dhs</td>\n",
       "      <td>non_churners</td>\n",
       "      <td>2024-09-27</td>\n",
       "      <td>2024-04-19 11:57:56</td>\n",
       "      <td>20240607</td>\n",
       "      <td>NaN</td>\n",
       "      <td>NaN</td>\n",
       "      <td>NaN</td>\n",
       "      <td>NaN</td>\n",
       "      <td>...</td>\n",
       "      <td>NaN</td>\n",
       "      <td>0.000000</td>\n",
       "      <td>NaN</td>\n",
       "      <td>0.000000</td>\n",
       "      <td>0.000000</td>\n",
       "      <td>0.000000</td>\n",
       "      <td>0.000000</td>\n",
       "      <td>0.000000</td>\n",
       "      <td>0.000000</td>\n",
       "      <td>0.000000</td>\n",
       "    </tr>\n",
       "  </tbody>\n",
       "</table>\n",
       "<p>5 rows × 3581 columns</p>\n",
       "</div>"
      ],
      "text/plain": [
       "                  dn            gamme churn_segment  churn_date  \\\n",
       "86494   212720709865  Forfaits 49 dhs  non_churners  2024-03-29   \n",
       "310144  212701288625  Forfaits 99 dhs  non_churners  2024-04-15   \n",
       "631650  212690000398  Forfaits 49 dhs  non_churners  2024-05-25   \n",
       "32049   212667252077  Forfaits 99 dhs  non_churners  2024-09-27   \n",
       "407695  212640586903  Forfaits 49 dhs  non_churners  2024-09-27   \n",
       "\n",
       "       activation_bscs_date   id_date  \\\n",
       "86494   2023-07-31 05:49:26  20240607   \n",
       "310144  2021-06-01 20:29:48  20240607   \n",
       "631650  2023-10-24 20:36:32  20240607   \n",
       "32049   2024-04-05 11:33:48  20240607   \n",
       "407695  2024-04-19 11:57:56  20240607   \n",
       "\n",
       "        complaints_complaints_complaint_status_abondon_duration_nb_1m  \\\n",
       "86494                                                 NaN               \n",
       "310144                                                NaN               \n",
       "631650                                                NaN               \n",
       "32049                                                 NaN               \n",
       "407695                                                NaN               \n",
       "\n",
       "        complaints_complaints_complaint_status_abondon_total_nb_1m  \\\n",
       "86494                                                 NaN            \n",
       "310144                                                NaN            \n",
       "631650                                                NaN            \n",
       "32049                                                 NaN            \n",
       "407695                                                NaN            \n",
       "\n",
       "        complaints_complaints_complaint_status_autre_duration_nb_1m  \\\n",
       "86494                                                 NaN             \n",
       "310144                                                NaN             \n",
       "631650                                                NaN             \n",
       "32049                                                 NaN             \n",
       "407695                                                NaN             \n",
       "\n",
       "        complaints_complaints_complaint_status_autre_total_nb_1m  ...  \\\n",
       "86494                                                 NaN         ...   \n",
       "310144                                                NaN         ...   \n",
       "631650                                                NaN         ...   \n",
       "32049                                                 NaN         ...   \n",
       "407695                                                NaN         ...   \n",
       "\n",
       "        voice_call_direction_ic_duration_value_1_3w_3_4w  \\\n",
       "86494                                                NaN   \n",
       "310144                                               NaN   \n",
       "631650                                               NaN   \n",
       "32049                                                NaN   \n",
       "407695                                               NaN   \n",
       "\n",
       "        voice_call_direction_oc_duration_value_1_3w_3_4w  \\\n",
       "86494                                                NaN   \n",
       "310144                                          0.418958   \n",
       "631650                                               NaN   \n",
       "32049                                                NaN   \n",
       "407695                                          0.000000   \n",
       "\n",
       "        voice_destination_type_international_duration_value_1_3w_3_4w  \\\n",
       "86494                                                 NaN               \n",
       "310144                                                NaN               \n",
       "631650                                                NaN               \n",
       "32049                                                 NaN               \n",
       "407695                                                NaN               \n",
       "\n",
       "        voice_destination_type_national_duration_value_1_3w_3_4w  \\\n",
       "86494                                                 NaN          \n",
       "310144                                           0.418958          \n",
       "631650                                                NaN          \n",
       "32049                                                 NaN          \n",
       "407695                                           0.000000          \n",
       "\n",
       "        voice_termination_type_offnet_duration_value_1_3w_3_4w  \\\n",
       "86494                                                 NaN        \n",
       "310144                                           0.265494        \n",
       "631650                                                NaN        \n",
       "32049                                                 NaN        \n",
       "407695                                           0.000000        \n",
       "\n",
       "        voice_termination_type_onnet_duration_value_1_3w_3_4w  \\\n",
       "86494                                                 NaN       \n",
       "310144                                           4.248495       \n",
       "631650                                                NaN       \n",
       "32049                                                 NaN       \n",
       "407695                                           0.000000       \n",
       "\n",
       "        voice_weekend_n_duration_value_1_3w_3_4w  \\\n",
       "86494                                        NaN   \n",
       "310144                                  2.503256   \n",
       "631650                                       NaN   \n",
       "32049                                        NaN   \n",
       "407695                                  0.000000   \n",
       "\n",
       "        voice_weekend_y_duration_value_1_3w_3_4w  \\\n",
       "86494                                        NaN   \n",
       "310144                                 -0.126931   \n",
       "631650                                       NaN   \n",
       "32049                                        NaN   \n",
       "407695                                  0.000000   \n",
       "\n",
       "        voice_workingh_n_duration_value_1_3w_3_4w  \\\n",
       "86494                                         NaN   \n",
       "310144                                  -1.318853   \n",
       "631650                                        NaN   \n",
       "32049                                         NaN   \n",
       "407695                                   0.000000   \n",
       "\n",
       "        voice_workingh_y_duration_value_1_3w_3_4w  \n",
       "86494                                         NaN  \n",
       "310144                                   0.682406  \n",
       "631650                                        NaN  \n",
       "32049                                         NaN  \n",
       "407695                                   0.000000  \n",
       "\n",
       "[5 rows x 3581 columns]"
      ]
     },
     "execution_count": 137,
     "metadata": {},
     "output_type": "execute_result"
    }
   ],
   "source": [
    "concat_df.head()"
   ]
  },
  {
   "cell_type": "markdown",
   "metadata": {},
   "source": [
    "### Target column"
   ]
  },
  {
   "cell_type": "code",
   "execution_count": 138,
   "metadata": {},
   "outputs": [
    {
     "data": {
      "text/plain": [
       "non_churners                150000\n",
       "inactif_unknown_churners    140000\n",
       "churn_operateur_actif        10602\n",
       "Name: churn_segment, dtype: int64"
      ]
     },
     "execution_count": 138,
     "metadata": {},
     "output_type": "execute_result"
    }
   ],
   "source": [
    "#Churn segemnts and thier counts\n",
    "concat_df[\"churn_segment\"].value_counts()"
   ]
  },
  {
   "cell_type": "code",
   "execution_count": 139,
   "metadata": {},
   "outputs": [
    {
     "data": {
      "image/png": "[encoded data removed]",
      "text/plain": [
       "<Figure size 1296x432 with 1 Axes>"
      ]
     },
     "metadata": {},
     "output_type": "display_data"
    }
   ],
   "source": [
    "#Vis target distribution \n",
    "utils.vis_target_distribution(concat_df[\"churn_segment\"])"
   ]
  },
  {
   "cell_type": "code",
   "execution_count": 140,
   "metadata": {},
   "outputs": [
    {
     "data": {
      "text/plain": [
       "1    150602\n",
       "0    150000\n",
       "Name: churn, dtype: int64"
      ]
     },
     "execution_count": 140,
     "metadata": {},
     "output_type": "execute_result"
    }
   ],
   "source": [
    "#Get churn variable from churn segment \n",
    "concat_df_v2 = utils.get_churn_target_from_churn_segment(concat_df)\n",
    "concat_df_v2[\"churn\"].value_counts()"
   ]
  },
  {
   "cell_type": "markdown",
   "metadata": {},
   "source": [
    "### Train Test Split "
   ]
  },
  {
   "cell_type": "code",
   "execution_count": 141,
   "metadata": {},
   "outputs": [
    {
     "name": "stdout",
     "output_type": "stream",
     "text": [
      "df_train shape :(150000, 3582)\n",
      "df_dev shape: (25000, 3582)\n",
      "df_test shape: (10000, 3582)\n"
     ]
    }
   ],
   "source": [
    "#Split df into train dev and test data\n",
    "df_train, df_dev = train_test_split(concat_df_v2, train_size = 0.499, random_state = 42, shuffle = True, stratify = concat_df_v2[\"churn\"] )\n",
    "df_dev, df_test  = train_test_split(df_dev, train_size = 0.5, random_state = 42, shuffle = True, stratify = df_dev[\"churn\"])\n",
    "df_dev = df_dev.sample(n=25000, random_state=42)\n",
    "df_test = df_test.sample(n=10000, random_state=42)\n",
    "print (f\"df_train shape :{df_train.shape}\")\n",
    "print (f\"df_dev shape: {df_dev.shape}\")\n",
    "print (f\"df_test shape: {df_test.shape}\")"
   ]
  },
  {
   "cell_type": "code",
   "execution_count": 142,
   "metadata": {},
   "outputs": [],
   "source": [
    "#Save train test data\n",
    "df_train.to_csv(f\"{train_dev_test_path}/{date_time}_df_train.csv\", index=True)\n",
    "df_dev.to_csv(f\"{train_dev_test_path}/{date_time}_df_dev.csv\", index=True)\n",
    "df_test.to_csv(f\"{train_dev_test_path}/{date_time}_df_test.csv\", index=True)"
   ]
  },
  {
   "cell_type": "code",
   "execution_count": null,
   "metadata": {},
   "outputs": [],
   "source": [
    "df_train.head()"
   ]
  }
 ],
 "metadata": {
  "kernelspec": {
   "display_name": "py36",
   "language": "python",
   "name": "py36"
  },
  "language_info": {
   "codemirror_mode": {
    "name": "ipython",
    "version": 3
   },
   "file_extension": ".py",
   "mimetype": "text/x-python",
   "name": "python",
   "nbconvert_exporter": "python",
   "pygments_lexer": "ipython3",
   "version": "3.6.12"
  }
 },
 "nbformat": 4,
 "nbformat_minor": 4
}
